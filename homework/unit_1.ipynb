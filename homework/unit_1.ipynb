{
 "cells": [
  {
   "cell_type": "markdown",
   "metadata": {},
   "source": [
    "## Problem 2. Set operations and probabilities"
   ]
  },
  {
   "cell_type": "markdown",
   "metadata": {},
   "source": [
    "### Find the value of $P(A \\cup (B^C \\cup C^C)^C)$ for each of the following cases:"
   ]
  },
  {
   "cell_type": "markdown",
   "metadata": {},
   "source": [
    "#### 1. The events  $A, B, C$ are disjoint events and and $P(A) = \\frac{2}{5}$.\n",
    "\n",
    "Solution:\n",
    "\n",
    "$\n",
    "\\begin{equation}\n",
    "\\begin{aligned}\n",
    "P(A \\cup (B^C \\cup C^C)^C) &= P(A \\cup (B \\cap C)) & \\text{(from DeMorgan's laws)} \\\\\n",
    "&= P(A) + P(B \\cap C) & \\text{(from Finite Additivity Axiom)} \\\\\n",
    "&= P(A) + P(\\emptyset) \\\\\n",
    "&= P(A) + 0 \\\\\n",
    "&= P(A) \\\\\n",
    "&= \\frac{2}{5}\n",
    "\\end{aligned}\n",
    "\\end{equation}\n",
    "$"
   ]
  },
  {
   "cell_type": "markdown",
   "metadata": {},
   "source": [
    "### 2. The events $A$ and $C$ are disjoint, and $P(A) = \\frac{1}{2}$ and $P(B \\cap C) = \\frac{1}{4}$.\n",
    "\n",
    "Solution:\n",
    "\n",
    "$\n",
    "\\begin{equation}\n",
    "\\begin{aligned}\n",
    "P(A \\cup (B^C \\cup C^C)^C) &= P(A \\cup (B \\cap C)) & \\text{(from DeMorgan's laws)} \\\\\n",
    "&= P(A) + P(B \\cap C) & \\text{(from Finite Additivity Axiom)} \\\\\n",
    "&= \\frac{1}{2} + \\frac{1}{4} \\\\\n",
    "&= \\frac{3}{4}\n",
    "\\end{aligned}\n",
    "\\end{equation}\n",
    "$"
   ]
  },
  {
   "cell_type": "markdown",
   "metadata": {},
   "source": [
    "### 3. $P(A^C \\cap (B^C \\cup C^C)) = 0.7$\n",
    "\n",
    "Solution:\n",
    "\n",
    "$\n",
    "\\begin{equation}\n",
    "\\begin{aligned}\n",
    "P(A \\cup (B^C \\cup C^C)^C) &= P((A^C \\cap ((B^C \\cup C^C)^C)^C)^C) & \\text{(from DeMorgan's laws)} \\\\\n",
    "&= P((A^C \\cap (B^C \\cup C^C))^C) \\\\\n",
    "&= 1 - P((A^C \\cap (B^C \\cup C^C)) \\\\\n",
    "&= 1 - 0.7 \\\\\n",
    "&= 0.3\n",
    "\\end{aligned}\n",
    "\\end{equation}\n",
    "$"
   ]
  },
  {
   "cell_type": "code",
   "execution_count": null,
   "metadata": {},
   "outputs": [],
   "source": []
  }
 ],
 "metadata": {
  "kernelspec": {
   "display_name": "Python 3",
   "language": "python",
   "name": "python3"
  },
  "language_info": {
   "codemirror_mode": {
    "name": "ipython",
    "version": 3
   },
   "file_extension": ".py",
   "mimetype": "text/x-python",
   "name": "python",
   "nbconvert_exporter": "python",
   "pygments_lexer": "ipython3",
   "version": "3.7.0"
  }
 },
 "nbformat": 4,
 "nbformat_minor": 2
}
