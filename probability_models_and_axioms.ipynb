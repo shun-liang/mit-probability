{
 "cells": [
  {
   "cell_type": "markdown",
   "metadata": {},
   "source": [
    "# Lecture 1: Probability Models and Axioms"
   ]
  },
  {
   "cell_type": "markdown",
   "metadata": {},
   "source": [
    "A probabilistic model is a quantitative description of a situation, a phenomenon, or an experiment.\n",
    "\n",
    "A probabilistic model involves two steps.\n",
    "\n",
    "- Sample Space: We need to describe the possible outcomes of an experiment.\n",
    "\n",
    "- Probability Laws: We need to specify how to assign probabilities to the outcomes or the collection of outcomes.\n",
    " - Axioms: Probabilities need to satisfy basic properties to be meaningful.\n",
    "   - e.g. Probabilities cannot be negative.\n",
    " - Properties that follow from the axioms"
   ]
  },
  {
   "cell_type": "markdown",
   "metadata": {},
   "source": [
    "Two types of probabilistic outcomes:\n",
    " - Discrete\n",
    " - Continuous"
   ]
  },
  {
   "cell_type": "markdown",
   "metadata": {},
   "source": [
    "## Sample Space\n",
    "\n",
    "What ever an experiment is, like\n",
    " - flipping a coin\n",
    " - flipping a coin for 5 times\n",
    " - rolling a dice\n",
    " \n",
    "...There will be a set of possible outcomes of an experiment.\n",
    "\n",
    "We denote the set of possible outcomes of a experiment as $\\Omega$.\n",
    "\n",
    "The elements of a sample space should be\n",
    " - Mutually exclusive\n",
    "  - At the end of an experiment, there can only be one of the outcomes that has happened.\n",
    " - Collectively exhaustive\n",
    "  - Together, all the elements of the sample space exhaust all the possibilities.\n",
    " - At the \"right\" granularity\n",
    "  - The right granularity will include the sufficient but only relevant information in the model.\n",
    "  - For example, for flipping a coin, the weather of the location of the experiment will be irrelevant information\n",
    "    - Hence $\\Omega = \\{H, T\\}$ will be a better sample space compare to $\\Omega' = \\{H~and~rain, H~and~no~rain, T~and~rain, T~and~no~rain\\}$, although the elements in latter sample space are also mutually exclusive and collective exhaustive."
   ]
  },
  {
   "cell_type": "markdown",
   "metadata": {},
   "source": [
    "### Sample Space Examples\n",
    "\n",
    "Samples space are sets. And a sample space can be finite, infinite, discrete, continuous, and so on."
   ]
  },
  {
   "cell_type": "markdown",
   "metadata": {},
   "source": [
    "#### Example: 2 rolls of a tetrahedral die\n",
    "\n",
    "One possible representation of the sample space is the following\n",
    "\n",
    "![](assets/sample_space_tetrahedral_die_xy.png)\n",
    "\n",
    "...and the order of the dice roll matters. E.g. $(2, 3)$ is a different outcome to $(3, 2)$.\n",
    "\n",
    "This is case of models that the probabilistic experiment can be described in phases or stages.\n",
    "\n",
    "It is useful to describe the such an experiment as a sequential description in terms of a tree.\n",
    "\n",
    "![](assets/sample_space_tetrahedral_die_tree.png)\n",
    "\n",
    "In both descriptions, we have $16$ possible outcomes."
   ]
  },
  {
   "cell_type": "markdown",
   "metadata": {},
   "source": [
    "### Example: Throwing a dart towards a target as a unit square\n",
    "\n",
    "And outcome will the dart hits point $(x, y)$ on the target such that $0 \\leq x, y \\leq 1$, while $x$ and $y$ are real numbers.\n",
    "\n",
    "![](assets/sample_space_dart.png)"
   ]
  },
  {
   "cell_type": "markdown",
   "metadata": {},
   "source": [
    "## Probability Axioms"
   ]
  },
  {
   "cell_type": "markdown",
   "metadata": {},
   "source": [
    "### Definition: Event\n",
    "\n",
    "Recall the dart example above. What is the probability of the dart hits on an exact point $(x, y)$ for any particular $x$ and $y$?\n",
    "\n",
    "The probability of such an outcome would be essentially $0$. And it is natural that in a continuous model that any individual point should have a $0$ probability.\n",
    "\n",
    "In this case instead of assigning probabilities to individual points, we will assign probabilities to a **subset** of the sample space.\n",
    "\n",
    "A subset of the sample space is called an **event**.\n",
    "\n",
    "The probability of an event $A$ is denoted as $P(A)$.\n",
    "\n",
    "Why is this called an event? Because at the end of the experiment, the outcome of the experiment is either in the subset $A$ (then we would say event $A$ has occurred), or is outside $A$ (then we would say event $A$ did not occurred).\n",
    "\n",
    "![](assets/continous_event.png)\n",
    "\n",
    "By convention, probabilities are always given between $0$ and $1$.\n",
    "\n",
    "Intuitively, $0$ probability means something practically cannot happen. And $1$ probability means practically the event of interest is going to happen."
   ]
  },
  {
   "cell_type": "markdown",
   "metadata": {},
   "source": [
    "### Axioms\n",
    "\n",
    "The rules all probabilities should satisfy are call the Axioms of Probability.\n",
    "\n",
    "1. Non-negativity: $P(A) \\geq 0$\n",
    "2. Normalization: $P(\\Omega) = 1$\n",
    "3. (Finite) Additivity (to be strengthen later): If $A \\cap B = \\emptyset$, then $P(A \\cup B) = P(A) + P(B)$.\n",
    "\n",
    "![](assets/additivity_axiom.png)"
   ]
  },
  {
   "cell_type": "code",
   "execution_count": null,
   "metadata": {},
   "outputs": [],
   "source": []
  }
 ],
 "metadata": {
  "kernelspec": {
   "display_name": "Python 3",
   "language": "python",
   "name": "python3"
  },
  "language_info": {
   "codemirror_mode": {
    "name": "ipython",
    "version": 3
   },
   "file_extension": ".py",
   "mimetype": "text/x-python",
   "name": "python",
   "nbconvert_exporter": "python",
   "pygments_lexer": "ipython3",
   "version": "3.7.0"
  }
 },
 "nbformat": 4,
 "nbformat_minor": 2
}
