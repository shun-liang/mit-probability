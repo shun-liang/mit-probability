{
 "cells": [
  {
   "cell_type": "markdown",
   "metadata": {},
   "source": [
    "# Lecture 2: Conditioning and Bayes' Rule"
   ]
  },
  {
   "cell_type": "markdown",
   "metadata": {},
   "source": [
    "## The concept of conditional probability\n",
    "\n",
    "We started with some initial probabilities that reflect what we know or believe about the world.\n",
    "\n",
    "But we then acquire some additional information (e.g. some new evidence), then the new knowledge should cause our belief to change, and the original probabilities must be replaced with new probabilities.\n",
    "\n",
    "The revised probabilities are called conditional probabilities.\n",
    "\n",
    "We represent the probability of an event $A$, given event $B$ happens, as $P(A|B)$."
   ]
  },
  {
   "cell_type": "markdown",
   "metadata": {},
   "source": [
    "### An intuitive concept of conditioning\n",
    "\n",
    "![](assets/conditional_probability_intuitive.png)"
   ]
  },
  {
   "cell_type": "markdown",
   "metadata": {},
   "source": [
    "### Definition: Conditional Probability\n",
    "\n",
    "The probability of A, given that B occurred, is defined as\n",
    "\n",
    "$\n",
    "\\begin{equation}\n",
    "P(A|B) = \\frac{P(A \\cap B)}{P(B)}\n",
    "\\end{equation}\n",
    "$\n",
    "\n",
    "The definition is only meaningful when $P(B) > 0$."
   ]
  },
  {
   "cell_type": "markdown",
   "metadata": {},
   "source": [
    "### Conditional probabilities share properties of ordinary probabilities\n",
    "\n",
    "Assuming $P(B) > 0$.\n",
    "- $P(A|B) \\geq 0$\n",
    "- $P(\\Omega|B) = \\frac{P(\\Omega \\cap B)}{P(B)} = \\frac{P(B)}{P(B)} = 1$\n",
    "- $P(B|B) = \\frac{P(B \\cap B)}{P(B)} = \\frac{P(B)}{P(B)}$\n",
    "- If $A \\cap C = \\emptyset$, then $(A \\cap B) \\cap (C \\cap B) = \\emptyset$, then $P(A \\cup C|B) = \\frac{P((A \\cup C) \\cap B)}{P(B)} = \\frac{P((A \\cap B) \\cup (C \\cap B))}{P(B)} = \\frac{P(A \\cap B)}{P(B)} + \\frac{P(C \\cap B)}{P(B)} = P(A|B) + P(C|B)$\n",
    "\n",
    "Hence any property we derive from ordinary probabilities will remain true for conditional probabilities as well."
   ]
  },
  {
   "cell_type": "code",
   "execution_count": null,
   "metadata": {},
   "outputs": [],
   "source": []
  }
 ],
 "metadata": {
  "kernelspec": {
   "display_name": "Python 3",
   "language": "python",
   "name": "python3"
  },
  "language_info": {
   "codemirror_mode": {
    "name": "ipython",
    "version": 3
   },
   "file_extension": ".py",
   "mimetype": "text/x-python",
   "name": "python",
   "nbconvert_exporter": "python",
   "pygments_lexer": "ipython3",
   "version": "3.7.0"
  }
 },
 "nbformat": 4,
 "nbformat_minor": 2
}
